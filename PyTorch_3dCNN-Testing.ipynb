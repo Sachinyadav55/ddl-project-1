{
 "cells": [
  {
   "cell_type": "markdown",
   "metadata": {},
   "source": [
    "## Load 3D CNN Model"
   ]
  },
  {
   "cell_type": "code",
   "execution_count": 1,
   "metadata": {
    "scrolled": true
   },
   "outputs": [
    {
     "name": "stdout",
     "output_type": "stream",
     "text": [
      "Total number of parameters: 33371472\n"
     ]
    }
   ],
   "source": [
    "import torch\n",
    "from torch import nn\n",
    "import torchvision\n",
    "\n",
    "#This downloads the model from torchvision\n",
    "model = torchvision.models.video.r3d_18(pretrained=True, progress=True)\n",
    "\n",
    "print ('Total number of parameters: {}'.format(sum(p.numel() for p in model.parameters())))"
   ]
  },
  {
   "cell_type": "markdown",
   "metadata": {},
   "source": [
    "## Modify the Last Layer"
   ]
  },
  {
   "cell_type": "code",
   "execution_count": 2,
   "metadata": {
    "scrolled": true
   },
   "outputs": [],
   "source": [
    "import torch.optim as optim\n",
    "model.fc = nn.Linear(in_features=512, out_features=10, bias=True)\n",
    "optimizer = optim.SGD(model.parameters(), lr=0.001, momentum=0.9)"
   ]
  },
  {
   "cell_type": "markdown",
   "metadata": {},
   "source": [
    "## Set the data"
   ]
  },
  {
   "cell_type": "code",
   "execution_count": 3,
   "metadata": {},
   "outputs": [],
   "source": [
    "# Generating random data for testing purposes\n",
    "torch.manual_seed(7)\n",
    "trainData = torch.rand(10, 3, 2, 4, 4)*255\n",
    "trainLabels = torch.randint(0, 10, (10,))\n",
    "\n",
    "testData = torch.rand(10, 3, 2, 4, 4)*255\n",
    "testLabels = torch.randint(0, 10, (10,))\n",
    "\n",
    "# trainset_loader = DataLoader(trainset, batch_size=64, shuffle=True, num_workers=1)\n",
    "# valset_loader = DataLoader(valset, batch_size=64, shuffle=True, num_workers=1)\n",
    "# testset_loader = DataLoader(testset, batch_size=64, shuffle=True, num_workers=1)"
   ]
  },
  {
   "cell_type": "code",
   "execution_count": 4,
   "metadata": {},
   "outputs": [],
   "source": [
    "import torch.nn.functional as F\n",
    "\n",
    "def train_model(x, y, model, epochs=5):\n",
    "    model.train()\n",
    "    for t in range(epochs):\n",
    "        output = model(x)\n",
    "\n",
    "        loss = F.nll_loss(output, y)\n",
    "\n",
    "        # clear the gradients of all tensors being optimized.\n",
    "        optimizer.zero_grad()\n",
    "        \n",
    "        loss.backward()\n",
    "        \n",
    "        # parameter update\n",
    "        optimizer.step()\n",
    "\n",
    "def check_accuracy(x, y, model):\n",
    "    num_correct = 0\n",
    "    num_samples = 0\n",
    "    test_loss = 0\n",
    "    model.eval()  # set model to evaluation mode\n",
    "    with torch.no_grad():\n",
    "        scores = model(x)\n",
    "        test_loss += F.nll_loss(scores, y, size_average=False).item() # sum up batch loss\n",
    "        _, preds = scores.max(1)\n",
    "        num_correct += (preds == y).sum()\n",
    "        num_samples += preds.size(0)\n",
    "        acc = float(num_correct) / num_samples\n",
    "        print('Got %d / %d correct (%.2f), Loss: (%.2f)' % \n",
    "              (num_correct, num_samples, 100 * acc, float(test_loss) / num_samples))"
   ]
  },
  {
   "cell_type": "markdown",
   "metadata": {},
   "source": [
    "## Train (Finetune) the model"
   ]
  },
  {
   "cell_type": "code",
   "execution_count": 5,
   "metadata": {},
   "outputs": [],
   "source": [
    "train_model(trainData, trainLabels, model)"
   ]
  },
  {
   "cell_type": "markdown",
   "metadata": {},
   "source": [
    "## Test the model"
   ]
  },
  {
   "cell_type": "code",
   "execution_count": 6,
   "metadata": {},
   "outputs": [
    {
     "name": "stdout",
     "output_type": "stream",
     "text": [
      "Got 1 / 10 correct (10.00), Loss: (-0.04)\n"
     ]
    },
    {
     "name": "stderr",
     "output_type": "stream",
     "text": [
      "/Users/vineeth/anaconda3/lib/python3.7/site-packages/torch/nn/_reduction.py:43: UserWarning: size_average and reduce args will be deprecated, please use reduction='sum' instead.\n",
      "  warnings.warn(warning.format(ret))\n"
     ]
    }
   ],
   "source": [
    "check_accuracy(testData, testLabels, model)"
   ]
  },
  {
   "cell_type": "code",
   "execution_count": null,
   "metadata": {},
   "outputs": [],
   "source": []
  }
 ],
 "metadata": {
  "kernelspec": {
   "display_name": "Python 3",
   "language": "python",
   "name": "python3"
  },
  "language_info": {
   "codemirror_mode": {
    "name": "ipython",
    "version": 3
   },
   "file_extension": ".py",
   "mimetype": "text/x-python",
   "name": "python",
   "nbconvert_exporter": "python",
   "pygments_lexer": "ipython3",
   "version": "3.7.4"
  }
 },
 "nbformat": 4,
 "nbformat_minor": 2
}
